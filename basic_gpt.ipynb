{
 "cells": [
  {
   "cell_type": "code",
   "execution_count": 6,
   "metadata": {},
   "outputs": [],
   "source": [
    "import openai\n",
    "import os\n",
    "\n",
    "openai.api_key = \"Your_OpenAI_API_Key_here\""
   ]
  },
  {
   "cell_type": "code",
   "execution_count": 5,
   "metadata": {},
   "outputs": [
    {
     "name": "stdout",
     "output_type": "stream",
     "text": [
      "SELECT * \n",
      "FROM Students \n",
      "WHERE ExamScore >= 70;\n"
     ]
    }
   ],
   "source": [
    "prompt = \"create a SQL statement to find the students who passed the exam\"\n",
    "model = \"text-davinci-003\"\n",
    "temperature = 0.5\n",
    "max_tokens = 100\n",
    "\n",
    "response = openai.Completion.create(\n",
    "  engine=model,\n",
    "  prompt=prompt,\n",
    "  temperature=temperature,\n",
    "  max_tokens=max_tokens\n",
    ")\n",
    "\n",
    "generated_text = response.choices[0].text.strip()\n",
    "\n",
    "print(generated_text)"
   ]
  }
 ],
 "metadata": {
  "kernelspec": {
   "display_name": ".venv",
   "language": "python",
   "name": "python3"
  },
  "language_info": {
   "codemirror_mode": {
    "name": "ipython",
    "version": 3
   },
   "file_extension": ".py",
   "mimetype": "text/x-python",
   "name": "python",
   "nbconvert_exporter": "python",
   "pygments_lexer": "ipython3",
   "version": "3.10.8"
  },
  "orig_nbformat": 4
 },
 "nbformat": 4,
 "nbformat_minor": 2
}
