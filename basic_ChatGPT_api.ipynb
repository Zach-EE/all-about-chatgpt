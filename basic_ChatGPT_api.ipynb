{
 "cells": [
  {
   "cell_type": "code",
   "execution_count": 1,
   "metadata": {},
   "outputs": [],
   "source": [
    "import openai\n",
    "import os\n",
    "\n",
    "openai.api_key = \"Your_OpenAI_API_Key_here\""
   ]
  },
  {
   "cell_type": "code",
   "execution_count": 2,
   "metadata": {},
   "outputs": [
    {
     "name": "stdout",
     "output_type": "stream",
     "text": [
      "SELECT COUNT(*) FROM students WHERE math_grade >= 60;\n"
     ]
    }
   ],
   "source": [
    "model = \"gpt-3.5-turbo\"\n",
    "\n",
    "bot_persona = \"you are text -to-sql generator, give just the statement no explanation\"\n",
    "text = \"find how many students pass the math class\"\n",
    "\n",
    "temperature = 0\n",
    "max_tokens = 150\n",
    "\n",
    "response = openai.ChatCompletion.create(\n",
    "  model=model,\n",
    "  messages = [\n",
    "    {\"role\": \"system\", \"content\": bot_persona},\n",
    "    {\"role\": \"user\", \"content\": text}\n",
    "  ],\n",
    "  temperature=temperature,\n",
    "  max_tokens=max_tokens,\n",
    "  top_p = 1.0,\n",
    "  frequency_penalty = 0.0,\n",
    "  presence_penalty = 0.0\n",
    ")\n",
    "\n",
    "generated_text = response['choices'][0]['message']['content']\n",
    "\n",
    "print(generated_text)"
   ]
  }
 ],
 "metadata": {
  "kernelspec": {
   "display_name": ".venv",
   "language": "python",
   "name": "python3"
  },
  "language_info": {
   "codemirror_mode": {
    "name": "ipython",
    "version": 3
   },
   "file_extension": ".py",
   "mimetype": "text/x-python",
   "name": "python",
   "nbconvert_exporter": "python",
   "pygments_lexer": "ipython3",
   "version": "3.10.8"
  },
  "orig_nbformat": 4
 },
 "nbformat": 4,
 "nbformat_minor": 2
}
